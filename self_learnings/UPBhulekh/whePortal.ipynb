{
 "cells": [
  {
   "cell_type": "code",
   "execution_count": 25,
   "id": "41c74b44",
   "metadata": {},
   "outputs": [],
   "source": [
    "import re\n",
    "from selenium import webdriver\n",
    "from selenium.webdriver.common.by import By\n",
    "from selenium.webdriver.support.ui import WebDriverWait\n",
    "from selenium.webdriver.support import expected_conditions as EC\n",
    "from selenium.webdriver.chrome.service import Service  # Import Service class\n",
    "\n",
    "s = Service(r'chromedriver.exe')\n",
    "driver = webdriver.Chrome(service=s)\n",
    "\n",
    "## getting url\n",
    "\n",
    "driver.get(\"https://wheportal.com/\")\n",
    "\n",
    "driver.maximize_window()"
   ]
  },
  {
   "cell_type": "code",
   "execution_count": 26,
   "id": "97b42eb8",
   "metadata": {
    "scrolled": true
   },
   "outputs": [],
   "source": [
    "import time\n",
    "# search_box = driver.find_element(By.CSS_SELECTOR, \"input.p-element.ng-tns-c47-2.p-autocomplete-input.p-inputtext.p-component.ng-star-inserted\")\n",
    "search_box = driver.find_element(By.CSS_SELECTOR, \"input.p-element\")\n",
    "search_box.send_keys('cancer')\n",
    "time.sleep(5) \n",
    "\n"
   ]
  },
  {
   "cell_type": "code",
   "execution_count": 36,
   "id": "93d403c1",
   "metadata": {},
   "outputs": [
    {
     "name": "stdout",
     "output_type": "stream",
     "text": [
      "C. austroaegyptiacus var. cancerianus (Abdallah & Sa'ad) Alfarhan\n",
      "C. cancerianus Abdallah & Sa'ad\n",
      "Lycopodium canceris Herter\n",
      "Abdominal cancer\n",
      "Anti-cancer activity\n",
      "Anti-colorectal cancer activity\n",
      "Blood cancer\n",
      "Breast cancer\n",
      "Cancer\n",
      "Cancer and tumor\n",
      "Cancer chemopreventive activity\n",
      "Cancers and tumors\n",
      "Cytotoxic and anti-cancer activity\n",
      "Effect on cancer cell\n",
      "Hepatic cancer\n",
      "Liver cancer\n",
      "Lung cancer\n",
      "Lymphatic cancer\n",
      "Nose cancer\n",
      "Prostate cancer\n",
      "Testicular cancer\n",
      "Throat cancer\n",
      "Tumor and cancer\n",
      "Tumors and cancer\n",
      "Uterine cancer\n"
     ]
    }
   ],
   "source": [
    "disease_list = []\n",
    "items = driver.find_element(By.CSS_SELECTOR,\"div.ng-trigger.ng-trigger-overlayAnimation.ng-tns-c47-2.p-autocomplete-panel.p-component.ng-star-inserted\")\n",
    "print(items.text)\n"
   ]
  },
  {
   "cell_type": "code",
   "execution_count": 22,
   "id": "657572d9",
   "metadata": {},
   "outputs": [],
   "source": [
    "# list_item = driver.find_element(By.XPATH, '//div[@class=\"scrollable-list-class\"]//li[text()=\"Item Text\"]')  # Replace with actual XPath or locator\n",
    "# //*[@id=\"pr_id_2_list\"]/li[4]/span[1]\n",
    "# list_item = driver.find_element(By.XPATH, '//*[@id=\"pr_id_2_list\"]/li[4]/span[1][text()=\"Abdominal cancer\"]')\n",
    "span_element = WebDriverWait(driver, 10).until(\n",
    "        EC.visibility_of_element_located((By.XPATH, '//span[text()=\"Abdominal cancer\"]'))\n",
    "    )\n",
    "span_element.click()\n"
   ]
  },
  {
   "cell_type": "code",
   "execution_count": 23,
   "id": "8d7463ad",
   "metadata": {},
   "outputs": [],
   "source": [
    "search_button = driver.find_element(By.CSS_SELECTOR, 'button.searchbtn')  # Replace with the actual ID or locator\n",
    "search_button.click()"
   ]
  },
  {
   "cell_type": "code",
   "execution_count": 24,
   "id": "48e4efea",
   "metadata": {},
   "outputs": [],
   "source": [
    "driver.close()"
   ]
  },
  {
   "cell_type": "code",
   "execution_count": null,
   "id": "9b6aff52",
   "metadata": {},
   "outputs": [],
   "source": []
  }
 ],
 "metadata": {
  "kernelspec": {
   "display_name": "Python 3 (ipykernel)",
   "language": "python",
   "name": "python3"
  },
  "language_info": {
   "codemirror_mode": {
    "name": "ipython",
    "version": 3
   },
   "file_extension": ".py",
   "mimetype": "text/x-python",
   "name": "python",
   "nbconvert_exporter": "python",
   "pygments_lexer": "ipython3",
   "version": "3.9.13"
  }
 },
 "nbformat": 4,
 "nbformat_minor": 5
}
