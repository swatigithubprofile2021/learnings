{
 "cells": [
  {
   "cell_type": "code",
   "execution_count": 1,
   "id": "aafb0de3",
   "metadata": {},
   "outputs": [],
   "source": [
    "import re\n",
    "from selenium import webdriver\n",
    "from selenium.webdriver.common.by import By\n",
    "from selenium.webdriver.support.ui import WebDriverWait\n",
    "from selenium.webdriver.support import expected_conditions as EC\n",
    "from selenium.webdriver.chrome.service import Service  # Import Service class\n",
    "\n",
    "s = Service(r'chromedriver.exe')\n",
    "driver = webdriver.Chrome(service=s)\n",
    "\n",
    "## getting url\n",
    "\n",
    "driver.get(\"https://bhulekh.mahabhumi.gov.in/\")\n",
    "\n",
    "driver.maximize_window()\n",
    "# try:\n",
    "#     WebDriverWait(driver, 3).until(EC.alert_is_present(),'if alert is present')\n",
    "    \n",
    "#     alert = driver.switch_to.alert\n",
    "#     alert.dismiss()\n",
    "    \n",
    "# except  TimeoutException:\n",
    "#     print(\"no alert\")\n",
    "\n",
    "\n",
    "\n",
    "## getting district\n",
    "\n",
    "disElements = WebDriverWait(driver, 10).until(\n",
    "    EC.presence_of_all_elements_located((By.XPATH,'//*[@id=\"list\"]/option[4]'))\n",
    ")\n",
    "\n",
    "\n",
    "\n",
    "\n",
    "\n"
   ]
  },
  {
   "cell_type": "code",
   "execution_count": 2,
   "id": "2188794e",
   "metadata": {},
   "outputs": [
    {
     "name": "stdout",
     "output_type": "stream",
     "text": [
      "1\n",
      "<selenium.webdriver.remote.webelement.WebElement (session=\"9427dc4c4cea5f1eb0c1acfc4c02da7a\", element=\"46890B61116D6F31DFFA6A3EC59671E4_element_11\")>\n",
      "element_text---- नागपूर\n",
      "under if\n"
     ]
    }
   ],
   "source": [
    "# Iterate through disElements to find \"Nagpur\"\n",
    "\n",
    "print(len(disElements))\n",
    "print(disElements[0])\n",
    "for element in disElements:\n",
    "    element_text = element.text\n",
    "    print(\"element_text----\",element_text)\n",
    "    if element_text.strip() == \"नागपूर\":\n",
    "        print(\"under if\")\n",
    "        nagpur_element = element\n",
    "        break\n",
    "\n",
    "# Click on the \"Nagpur\" element\n",
    "nagpur_element.click()\n",
    "\n",
    "# Find and click on the \"go\" button\n",
    "try:\n",
    "    go_button = WebDriverWait(driver, 10).until(\n",
    "        EC.element_to_be_clickable((By.XPATH, '//*[@id=\"ctl00_ContentPlaceHolder1_Panel1\"]/p[2]/input'))  # Assuming \"goButtonId\" is the ID of the \"go\" button\n",
    "    )\n",
    "    go_button.click()\n",
    "except Exception as e:\n",
    "    print(\"Error:\", e)"
   ]
  },
  {
   "cell_type": "code",
   "execution_count": 3,
   "id": "32c9bea0",
   "metadata": {},
   "outputs": [],
   "source": [
    "new_window_handle = driver.window_handles[-1]\n",
    "driver.switch_to.window(new_window_handle)\n",
    "\n",
    "page_source = driver.page_source\n"
   ]
  },
  {
   "cell_type": "code",
   "execution_count": 5,
   "id": "3029c09e",
   "metadata": {},
   "outputs": [],
   "source": [
    "#dropdown = driver.findElement(By.id(\"distSelect\"))\n",
    "\n",
    "#print(page_source)\n",
    "district = None\n",
    "# time.sleep(5)\n",
    "DistrictElements  = WebDriverWait(driver, 10).until(\n",
    "     EC.presence_of_all_elements_located((By.ID,\"distSelect\")))\n",
    "\n",
    "DistrictElements[0].click()\n",
    "\n",
    "options = DistrictElements[0].find_elements(By.TAG_NAME, \"option\")\n",
    "\n",
    "     \n",
    "for option in options:\n",
    "    if option.text.strip() == \"नागपूर\":\n",
    "        district = option\n",
    "        break\n",
    "\n",
    "# Check if the district is not None before clicking\n",
    "if district is not None:\n",
    "    district.click()\n",
    "else:\n",
    "    print(\"District option 'नागपूर' not found.\")\n",
    "    \n",
    "  \n"
   ]
  },
  {
   "cell_type": "code",
   "execution_count": 6,
   "id": "0072ee12",
   "metadata": {},
   "outputs": [],
   "source": [
    "TehsilElements =   WebDriverWait(driver, 10).until( EC.presence_of_all_elements_located((By.ID,\"talSelect\")))\n",
    "TehsilElements[0].click()\n",
    "\n",
    "options = TehsilElements[0].find_elements(By.TAG_NAME, \"option\")\n",
    "for option in options:\n",
    "    if option.text.strip() == \"भिवापुर\":\n",
    "        tehsil = option\n",
    "        break\n",
    "\n",
    "if tehsil is not None:\n",
    "    tehsil.click()\n",
    "else:\n",
    "    print(\"District option भिवापुर not found.\")"
   ]
  },
  {
   "cell_type": "code",
   "execution_count": 7,
   "id": "2baa2299",
   "metadata": {},
   "outputs": [],
   "source": [
    "VillageElements =   WebDriverWait(driver, 10).until( EC.presence_of_all_elements_located((By.ID,\"vilSelect\")))\n",
    "VillageElements[0].click()\n",
    "\n",
    "options = VillageElements[0].find_elements(By.TAG_NAME, \"option\")\n",
    "for option in options:\n",
    "    if option.text.strip() == \"विरखंडी त.सा.क्र. 87 अ\":\n",
    "        village = option\n",
    "        break\n",
    "\n",
    "if village is not None:\n",
    "    village.click()\n",
    "else:\n",
    "    print(\"village option विरखंडी त.सा.क्र. 87 अ not found.\")"
   ]
  },
  {
   "cell_type": "code",
   "execution_count": 8,
   "id": "b288b456",
   "metadata": {},
   "outputs": [],
   "source": [
    "search = WebDriverWait(driver, 10).until( EC.element_to_be_clickable((By.ID,\"rb712an\")))\n",
    "search.click()"
   ]
  },
  {
   "cell_type": "code",
   "execution_count": null,
   "id": "df6823a4",
   "metadata": {},
   "outputs": [],
   "source": [
    "#print(driver.page_source)\n",
    "#selectElements = WebDriverWait(driver, 30).until( EC.visibility_of_all_elements_located((By.CLASS_NAME,\"input-text ng-pristine ng-valid ng-empty ng-touched\")))\n",
    "\n",
    "from selenium.common.exceptions import TimeoutException\n",
    "\n",
    "try:\n",
    "    selectElements = WebDriverWait(driver, 30).until(\n",
    "    EC.visibility_of_all_elements_located((By.XPATH, '//*[@id=\"aspnetForm\"]/div[4]/div/div/div[3]/div/div[4]/table/tbody/tr[2]/td[1]/select'))\n",
    "        \n",
    ")\n",
    "    selectElements[0].click()    \n",
    "\n",
    "    # Your code to handle the select elements here\n",
    "except TimeoutException:\n",
    "    print(\"Timeout: Unable to locate the select elements.\")\n",
    "\n",
    "# for select_element in select_elements:\n",
    "#     try:\n",
    "#         # Create a Select object\n",
    "#         select = Select(select_element)\n",
    "        \n",
    "#         # Select the option \"101-200\" by visible text\n",
    "#         select.select_by_visible_text(\"101-200\")\n",
    "#     except Exception as e:\n",
    "#         print(\"Error selecting option:\", e)\n",
    "\n"
   ]
  },
  {
   "cell_type": "code",
   "execution_count": null,
   "id": "83a0498d",
   "metadata": {},
   "outputs": [],
   "source": [
    "driver.close()"
   ]
  },
  {
   "cell_type": "code",
   "execution_count": null,
   "id": "aa3a76c8",
   "metadata": {},
   "outputs": [],
   "source": []
  }
 ],
 "metadata": {
  "kernelspec": {
   "display_name": "Python 3 (ipykernel)",
   "language": "python",
   "name": "python3"
  },
  "language_info": {
   "codemirror_mode": {
    "name": "ipython",
    "version": 3
   },
   "file_extension": ".py",
   "mimetype": "text/x-python",
   "name": "python",
   "nbconvert_exporter": "python",
   "pygments_lexer": "ipython3",
   "version": "3.9.13"
  }
 },
 "nbformat": 4,
 "nbformat_minor": 5
}
