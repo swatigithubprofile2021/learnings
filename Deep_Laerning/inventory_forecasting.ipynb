{
 "cells": [
  {
   "cell_type": "code",
   "execution_count": 5,
   "id": "7e5c4f07",
   "metadata": {},
   "outputs": [
    {
     "name": "stdout",
     "output_type": "stream",
     "text": [
      "Sample Demand Data:\n",
      "            item1  item2  item3\n",
      "2022-01-31    142    118     38\n",
      "2022-02-28    138    140    110\n",
      "2022-03-31     86     92    167\n",
      "2022-04-30    182     91     98\n",
      "2022-05-31    153    131    128\n"
     ]
    }
   ],
   "source": [
    "import pandas as pd\n",
    "import numpy as np\n",
    "\n",
    "# Set random seed for reproducibility\n",
    "np.random.seed(42)\n",
    "\n",
    "# Generate synthetic demand data for three items\n",
    "date_range = pd.date_range(start='2022-01-01', end='2023-12-31', freq='M')\n",
    "item_ids = ['item1', 'item2', 'item3']\n",
    "demand_data = pd.DataFrame(index=date_range)\n",
    "\n",
    "for item_id in item_ids:\n",
    "    demand_data[item_id] = np.random.randint(50, 200, size=len(date_range))\n",
    "\n",
    "# Add some seasonal patterns to the demand data\n",
    "demand_data['item1'] += np.sin(np.arange(len(date_range)) * (2 * np.pi) / 12) * 20\n",
    "demand_data['item2'] += np.cos(np.arange(len(date_range)) * (2 * np.pi) / 12) * 30\n",
    "demand_data['item3'] += np.sin(np.arange(len(date_range)) * (2 * np.pi) / 6) * 40\n",
    "\n",
    "# Add some random noise to the demand data\n",
    "demand_data += np.random.normal(0, 10, size=demand_data.shape)\n",
    "\n",
    "# Clip negative values to zero\n",
    "demand_data[demand_data < 0] = 0\n",
    "\n",
    "# Round demand values to integers\n",
    "demand_data = demand_data.round().astype(int)\n",
    "\n",
    "# Save demand data to CSV files\n",
    "for item_id in item_ids:\n",
    "    demand_data[item_id].to_csv(f\"data/{item_id}_demand.csv\", header=['Demand'], index_label='Date')\n",
    "\n",
    "# Display the first few rows of the demand data\n",
    "print(\"Sample Demand Data:\")\n",
    "print(demand_data.head())\n"
   ]
  },
  {
   "cell_type": "code",
   "execution_count": null,
   "id": "83a62af1",
   "metadata": {},
   "outputs": [],
   "source": [
    "import pandas as pd\n",
    "from statsmodels.tsa.statespace.sarimax import SARIMAX\n",
    "from statsmodels.tsa.holtwinters import ExponentialSmoothing\n",
    "from multiprocessing import Pool\n",
    "\n",
    "# Function to fit SARIMA model and make forecast\n",
    "def sarima_forecast(data):\n",
    "    # Extract item ID and demand data\n",
    "    item_id, demand_data = data\n",
    "    \n",
    "    # Split data into training and testing sets\n",
    "    train_data = demand_data[:-12]  # Use data up to the last 12 months for training\n",
    "    test_data = demand_data[-12:]   # Forecast for the next 12 months\n",
    "    \n",
    "    # Fit SARIMA model\n",
    "    model = SARIMAX(train_data, order=(1, 1, 1), seasonal_order=(1, 1, 1, 12))\n",
    "    sarima_result = model.fit()\n",
    "    \n",
    "    # Make forecast\n",
    "    forecast = sarima_result.forecast(steps=12)\n",
    "    \n",
    "    return item_id, forecast\n",
    "\n",
    "# Function to fit exponential smoothing model and make forecast\n",
    "def exponential_smoothing_forecast(data):\n",
    "    # Extract item ID and demand data\n",
    "    item_id, demand_data = data\n",
    "    \n",
    "    # Split data into training and testing sets\n",
    "    train_data = demand_data[:-12]  # Use data up to the last 12 months for training\n",
    "    test_data = demand_data[-12:]   # Forecast for the next 12 months\n",
    "    \n",
    "    # Fit exponential smoothing model\n",
    "    model = ExponentialSmoothing(train_data)\n",
    "    es_result = model.fit()\n",
    "    \n",
    "    # Make forecast\n",
    "    forecast = es_result.forecast(steps=12)\n",
    "    \n",
    "    return item_id, forecast\n",
    "\n",
    "# Sample function to read demand data from CSV files\n",
    "def read_demand_data(item_id):\n",
    "    file_path = f\"data/{item_id}_demand.csv\"\n",
    "    demand_data = pd.read_csv(file_path, index_col='Date', parse_dates=True)['Demand']\n",
    "    return item_id, demand_data\n",
    "\n",
    "if __name__ == '__main__':\n",
    "    # Sample item IDs\n",
    "    item_ids = ['item1', 'item2', 'item3']\n",
    "    \n",
    "    # Read demand data for each item\n",
    "    pool = Pool()  # Create a pool of worker processes\n",
    "    demand_data_list = pool.map(read_demand_data, item_ids)\n",
    "    \n",
    "    # Close the pool\n",
    "    pool.close()\n",
    "    pool.join()\n",
    "    \n",
    "    # Forecast demand using SARIMA\n",
    "    sarima_forecasts = []\n",
    "    for item_id, demand_data in demand_data_list:\n",
    "        sarima_forecasts.append(sarima_forecast((item_id, demand_data)))\n",
    "    \n",
    "    # Forecast demand using exponential smoothing\n",
    "    es_forecasts = []\n",
    "    for item_id, demand_data in demand_data_list:\n",
    "        es_forecasts.append(exponential_smoothing_forecast((item_id, demand_data)))\n",
    "    \n",
    "    # Print SARIMA forecasts\n",
    "    print(\"SARIMA Forecasts:\")\n",
    "    for item_id, forecast in sarima_forecasts:\n",
    "        print(f\"Item ID: {item_id}, Forecast: {forecast}\")\n",
    "    \n",
    "    # Print exponential smoothing forecasts\n",
    "    print(\"\\nExponential Smoothing Forecasts:\")\n",
    "    for item_id, forecast in es_forecasts:\n",
    "        print(f\"Item ID: {item_id}, Forecast: {forecast}\")\n"
   ]
  },
  {
   "cell_type": "code",
   "execution_count": null,
   "id": "b80746f3",
   "metadata": {},
   "outputs": [],
   "source": [
    "import pandas as pd\n",
    "import numpy as np\n",
    "from statsmodels.tsa.statespace.sarimax import SARIMAX\n",
    "from statsmodels.tsa.holtwinters import ExponentialSmoothing\n",
    "from multiprocessing import Pool\n",
    "\n",
    "# Function to fit SARIMA model and make forecast\n",
    "def sarima_forecast(data):\n",
    "    item_id, demand_data = data\n",
    "    train_data = demand_data[:-12]  # Use data up to the last 12 months for training\n",
    "    if len(train_data) < 24:\n",
    "        return item_id, [np.nan] * 12  # Return NaN forecasts if insufficient data\n",
    "    model = SARIMAX(train_data, order=(1, 1, 1), seasonal_order=(1, 1, 1, 12))\n",
    "    sarima_result = model.fit()\n",
    "    forecast = sarima_result.forecast(steps=12)\n",
    "    return item_id, forecast\n",
    "\n",
    "# Function to fit exponential smoothing model and make forecast\n",
    "def exponential_smoothing_forecast(data):\n",
    "    item_id, demand_data = data\n",
    "    train_data = demand_data[:-12]  # Use data up to the last 12 months for training\n",
    "    model = ExponentialSmoothing(train_data)\n",
    "    es_result = model.fit()\n",
    "    forecast = es_result.forecast(steps=12)\n",
    "    return item_id, forecast\n",
    "\n",
    "# Sample function to read demand data from CSV files\n",
    "def read_demand_data(item_id):\n",
    "    file_path = f\"data/{item_id}_demand.csv\"\n",
    "    demand_data = pd.read_csv(file_path, index_col='Date', parse_dates=True, freq='M')['Demand']\n",
    "    return item_id, demand_data\n",
    "\n",
    "if __name__ == '__main__':\n",
    "    # Sample item IDs\n",
    "    item_ids = ['item1', 'item2', 'item3']\n",
    "    \n",
    "    # Read demand data for each item\n",
    "    pool = Pool()  # Create a pool of worker processes\n",
    "    demand_data_list = pool.map(read_demand_data, item_ids)\n",
    "    \n",
    "    # Close the pool\n",
    "    pool.close()\n",
    "    pool.join()\n",
    "    \n",
    "    # Forecast demand using SARIMA\n",
    "    sarima_forecasts = [sarima_forecast(data) for data in demand_data_list]\n",
    "    \n",
    "    # Forecast demand using exponential smoothing\n",
    "    es_forecasts = [exponential_smoothing_forecast(data) for data in demand_data_list]\n",
    "    \n",
    "    # Print SARIMA forecasts\n",
    "    print(\"SARIMA Forecasts:\")\n",
    "    for item_id, forecast in sarima_forecasts:\n",
    "        print(f\"Item ID: {item_id}, Forecast: {forecast}\")\n",
    "    \n",
    "    # Print exponential smoothing forecasts\n",
    "    print(\"\\nExponential Smoothing Forecasts:\")\n",
    "    for item_id, forecast in es_forecasts:\n",
    "        print(f\"Item ID: {item_id}, Forecast: {forecast}\")\n"
   ]
  },
  {
   "cell_type": "code",
   "execution_count": 44,
   "id": "7188e2eb",
   "metadata": {
    "scrolled": true
   },
   "outputs": [
    {
     "name": "stdout",
     "output_type": "stream",
     "text": [
      "     sales_date  Qty\n",
      "0    2021-01-01  219\n",
      "1    2021-01-02  989\n",
      "2    2021-01-03  130\n",
      "3    2021-01-04  467\n",
      "4    2021-01-05  981\n",
      "...         ...  ...\n",
      "1090 2023-12-27  741\n",
      "1091 2023-12-28  241\n",
      "1092 2023-12-29   13\n",
      "1093 2023-12-30  679\n",
      "1094 2023-12-31  733\n",
      "\n",
      "[1095 rows x 2 columns]\n"
     ]
    },
    {
     "data": {
      "text/plain": [
       "<AxesSubplot:xlabel='sales_date'>"
      ]
     },
     "execution_count": 44,
     "metadata": {},
     "output_type": "execute_result"
    },
    {
     "data": {
      "image/png": "[encoded data removed]",
      "text/plain": [
       "<Figure size 640x480 with 1 Axes>"
      ]
     },
     "metadata": {},
     "output_type": "display_data"
    }
   ],
   "source": [
    "import pandas as pd\n",
    "\n",
    "import seaborn as sns\n",
    "\n",
    "# Define start and end dates for all 3 years\n",
    "start_date = pd.to_datetime('2021-01-01')\n",
    "end_date = pd.to_datetime('2023-12-31')\n",
    "\n",
    "# Create a date range for all days within the 3 years\n",
    "date_range = pd.date_range(start_date, end_date)\n",
    "\n",
    "# Define a function to generate random sales data (you can adjust the logic)\n",
    "def generate_sales(date):\n",
    " \n",
    "  return np.random.randint(1, 1000)\n",
    "\n",
    "# Create an empty DataFrame with 'sales_date' and 'Qty' columns\n",
    "df = pd.DataFrame({'sales_date': date_range})\n",
    "\n",
    "# Add a 'Qty' column with random sales data for each date\n",
    "df['Qty'] = df['sales_date'].apply(generate_sales)\n",
    "\n",
    "\n",
    "\n",
    "\n",
    "# Print the resulting DataFrame with dummy data for all 3 years\n",
    "print(df)\n",
    "\n",
    "# df['Qty'].plot()\n",
    "\n",
    "df.index = df['sales_date']\n",
    "\n",
    "df['Qty'].plot()\n",
    "\n"
   ]
  },
  {
   "cell_type": "code",
   "execution_count": 51,
   "id": "7899e80e",
   "metadata": {},
   "outputs": [
    {
     "data": {
      "text/html": [
       "<div>\n",
       "<style scoped>\n",
       "    .dataframe tbody tr th:only-of-type {\n",
       "        vertical-align: middle;\n",
       "    }\n",
       "\n",
       "    .dataframe tbody tr th {\n",
       "        vertical-align: top;\n",
       "    }\n",
       "\n",
       "    .dataframe thead th {\n",
       "        text-align: right;\n",
       "    }\n",
       "</style>\n",
       "<table border=\"1\" class=\"dataframe\">\n",
       "  <thead>\n",
       "    <tr style=\"text-align: right;\">\n",
       "      <th></th>\n",
       "      <th>sales_date</th>\n",
       "      <th>Qty</th>\n",
       "      <th>Year</th>\n",
       "    </tr>\n",
       "    <tr>\n",
       "      <th>sales_date</th>\n",
       "      <th></th>\n",
       "      <th></th>\n",
       "      <th></th>\n",
       "    </tr>\n",
       "  </thead>\n",
       "  <tbody>\n",
       "    <tr>\n",
       "      <th>2021-01-01</th>\n",
       "      <td>2021-01-01</td>\n",
       "      <td>219</td>\n",
       "      <td>2021</td>\n",
       "    </tr>\n",
       "    <tr>\n",
       "      <th>2021-01-02</th>\n",
       "      <td>2021-01-02</td>\n",
       "      <td>989</td>\n",
       "      <td>2021</td>\n",
       "    </tr>\n",
       "    <tr>\n",
       "      <th>2021-01-03</th>\n",
       "      <td>2021-01-03</td>\n",
       "      <td>130</td>\n",
       "      <td>2021</td>\n",
       "    </tr>\n",
       "    <tr>\n",
       "      <th>2021-01-04</th>\n",
       "      <td>2021-01-04</td>\n",
       "      <td>467</td>\n",
       "      <td>2021</td>\n",
       "    </tr>\n",
       "    <tr>\n",
       "      <th>2021-01-05</th>\n",
       "      <td>2021-01-05</td>\n",
       "      <td>981</td>\n",
       "      <td>2021</td>\n",
       "    </tr>\n",
       "  </tbody>\n",
       "</table>\n",
       "</div>"
      ],
      "text/plain": [
       "           sales_date  Qty  Year\n",
       "sales_date                      \n",
       "2021-01-01 2021-01-01  219  2021\n",
       "2021-01-02 2021-01-02  989  2021\n",
       "2021-01-03 2021-01-03  130  2021\n",
       "2021-01-04 2021-01-04  467  2021\n",
       "2021-01-05 2021-01-05  981  2021"
      ]
     },
     "execution_count": 51,
     "metadata": {},
     "output_type": "execute_result"
    }
   ],
   "source": [
    "import datetime as dt\n",
    "df['Year'] = df['sales_date'].dt.year\n",
    "df.head()\n"
   ]
  },
  {
   "cell_type": "code",
   "execution_count": 54,
   "id": "b35192b9",
   "metadata": {},
   "outputs": [
    {
     "data": {
      "text/plain": [
       "<AxesSubplot:xlabel='Year', ylabel='Qty'>"
      ]
     },
     "execution_count": 54,
     "metadata": {},
     "output_type": "execute_result"
    },
    {
     "data": {
      "image/png": "[encoded data removed]",
      "text/plain": [
       "<Figure size 640x480 with 1 Axes>"
      ]
     },
     "metadata": {},
     "output_type": "display_data"
    }
   ],
   "source": [
    "sns.regplot(x = df['Year'], y = df['Qty'])\n"
   ]
  },
  {
   "cell_type": "code",
   "execution_count": 55,
   "id": "05a42216",
   "metadata": {},
   "outputs": [],
   "source": [
    "from statsmodels.tsa.arima.model import ARIMA\n",
    "# Train the ARIMA model\n",
    "def train_arima_model(data):\n",
    "    # Define parameters for ARIMA model (p, d, q)\n",
    "    p, d, q = 1, 1, 1\n",
    "    # Fit ARIMA model to data\n",
    "    model = ARIMA(data, order=(p, d, q))\n",
    "    fitted_model = model.fit()\n",
    "    return fitted_model"
   ]
  },
  {
   "cell_type": "code",
   "execution_count": 56,
   "id": "1034627b",
   "metadata": {},
   "outputs": [],
   "source": [
    "##integration with portal\n",
    "def forecast_quantity(start_date, end_date, forecast_horizon):\n",
    "    # Filter historical sales data for the selected item and date range\n",
    "    item_sales_data = df[(df['sales_date'] >= start_date) & \n",
    "                            (df['sales_date']  <= end_date)]\n",
    "    # Train the ARIMA model using filtered sales data\n",
    "    item_model = train_arima_model(item_sales_data['Qty'])\n",
    "    # Forecast using the trained model\n",
    "    forecast = item_model.forecast(steps=forecast_horizon)\n",
    "    return forecast"
   ]
  },
  {
   "cell_type": "code",
   "execution_count": 60,
   "id": "a62fc254",
   "metadata": {},
   "outputs": [],
   "source": [
    "# uodate user interface \n",
    "# # Example usage in your portal's backend API\n",
    "# @app.route('/forecast', methods=['POST'])\n",
    "def forecast_endpoint():\n",
    "#     item_id = request.json['item_id']\n",
    "#     start_date = request.json['start_date']\n",
    "#     end_date = request.json['end_date']\n",
    "#     forecast_horizon = request.json['forecast_horizon']\n",
    "    start_date = '2023-01-01'\n",
    "    end_date = '2023-01-31'\n",
    "    forecast_horizon = 30\n",
    "    \n",
    "    # Call forecast_quantity function with user inputs\n",
    "    forecast = forecast_quantity(start_date, end_date, forecast_horizon)\n",
    "    \n",
    "    # Return forecasted quantity to frontend\n",
    "    #return jsonify({'forecast': forecast})\n",
    "    \n",
    "    print(forecast)\n"
   ]
  },
  {
   "cell_type": "code",
   "execution_count": 61,
   "id": "dd5830b9",
   "metadata": {},
   "outputs": [
    {
     "name": "stdout",
     "output_type": "stream",
     "text": [
      "2023-02-01    587.270369\n",
      "2023-02-02    457.808723\n",
      "2023-02-03    488.888343\n",
      "2023-02-04    481.427116\n",
      "2023-02-05    483.218319\n",
      "2023-02-06    482.788308\n",
      "2023-02-07    482.891540\n",
      "2023-02-08    482.866757\n",
      "2023-02-09    482.872707\n",
      "2023-02-10    482.871278\n",
      "2023-02-11    482.871621\n",
      "2023-02-12    482.871539\n",
      "2023-02-13    482.871559\n",
      "2023-02-14    482.871554\n",
      "2023-02-15    482.871555\n",
      "2023-02-16    482.871555\n",
      "2023-02-17    482.871555\n",
      "2023-02-18    482.871555\n",
      "2023-02-19    482.871555\n",
      "2023-02-20    482.871555\n",
      "2023-02-21    482.871555\n",
      "2023-02-22    482.871555\n",
      "2023-02-23    482.871555\n",
      "2023-02-24    482.871555\n",
      "2023-02-25    482.871555\n",
      "2023-02-26    482.871555\n",
      "2023-02-27    482.871555\n",
      "2023-02-28    482.871555\n",
      "2023-03-01    482.871555\n",
      "2023-03-02    482.871555\n",
      "Freq: D, Name: predicted_mean, dtype: float64\n"
     ]
    },
    {
     "name": "stderr",
     "output_type": "stream",
     "text": [
      "C:\\Users\\HP\\anaconda3\\lib\\site-packages\\statsmodels\\tsa\\base\\tsa_model.py:471: ValueWarning: No frequency information was provided, so inferred frequency D will be used.\n",
      "  self._init_dates(dates, freq)\n",
      "C:\\Users\\HP\\anaconda3\\lib\\site-packages\\statsmodels\\tsa\\base\\tsa_model.py:471: ValueWarning: No frequency information was provided, so inferred frequency D will be used.\n",
      "  self._init_dates(dates, freq)\n",
      "C:\\Users\\HP\\anaconda3\\lib\\site-packages\\statsmodels\\tsa\\base\\tsa_model.py:471: ValueWarning: No frequency information was provided, so inferred frequency D will be used.\n",
      "  self._init_dates(dates, freq)\n"
     ]
    }
   ],
   "source": [
    "forecast_endpoint()"
   ]
  },
  {
   "cell_type": "code",
   "execution_count": 6,
   "id": "2060c2ea",
   "metadata": {},
   "outputs": [
    {
     "ename": "KeyError",
     "evalue": "\"None of ['date'] are in the columns\"",
     "output_type": "error",
     "traceback": [
      "\u001b[1;31m---------------------------------------------------------------------------\u001b[0m",
      "\u001b[1;31mKeyError\u001b[0m                                  Traceback (most recent call last)",
      "\u001b[1;32m~\\AppData\\Local\\Temp\\ipykernel_26160\\1704933563.py\u001b[0m in \u001b[0;36m<module>\u001b[1;34m\u001b[0m\n\u001b[0;32m      3\u001b[0m \u001b[0mdf\u001b[0m \u001b[1;33m=\u001b[0m \u001b[0mpd\u001b[0m\u001b[1;33m.\u001b[0m\u001b[0mread_csv\u001b[0m\u001b[1;33m(\u001b[0m\u001b[1;34m'Item1.csv'\u001b[0m\u001b[1;33m)\u001b[0m\u001b[1;33m\u001b[0m\u001b[1;33m\u001b[0m\u001b[0m\n\u001b[0;32m      4\u001b[0m \u001b[1;33m\u001b[0m\u001b[0m\n\u001b[1;32m----> 5\u001b[1;33m \u001b[0mdf\u001b[0m\u001b[1;33m.\u001b[0m\u001b[0mset_index\u001b[0m\u001b[1;33m(\u001b[0m\u001b[1;34m'date'\u001b[0m\u001b[1;33m,\u001b[0m \u001b[0minplace\u001b[0m\u001b[1;33m=\u001b[0m\u001b[1;32mTrue\u001b[0m\u001b[1;33m)\u001b[0m\u001b[1;33m\u001b[0m\u001b[1;33m\u001b[0m\u001b[0m\n\u001b[0m\u001b[0;32m      6\u001b[0m \u001b[1;33m\u001b[0m\u001b[0m\n\u001b[0;32m      7\u001b[0m \u001b[0mdf\u001b[0m\u001b[1;33m\u001b[0m\u001b[1;33m\u001b[0m\u001b[0m\n",
      "\u001b[1;32m~\\anaconda3\\lib\\site-packages\\pandas\\core\\frame.py\u001b[0m in \u001b[0;36mset_index\u001b[1;34m(self, keys, drop, append, inplace, verify_integrity)\u001b[0m\n\u001b[0;32m   5857\u001b[0m \u001b[1;33m\u001b[0m\u001b[0m\n\u001b[0;32m   5858\u001b[0m         \u001b[1;32mif\u001b[0m \u001b[0mmissing\u001b[0m\u001b[1;33m:\u001b[0m\u001b[1;33m\u001b[0m\u001b[1;33m\u001b[0m\u001b[0m\n\u001b[1;32m-> 5859\u001b[1;33m             \u001b[1;32mraise\u001b[0m \u001b[0mKeyError\u001b[0m\u001b[1;33m(\u001b[0m\u001b[1;34mf\"None of {missing} are in the columns\"\u001b[0m\u001b[1;33m)\u001b[0m\u001b[1;33m\u001b[0m\u001b[1;33m\u001b[0m\u001b[0m\n\u001b[0m\u001b[0;32m   5860\u001b[0m \u001b[1;33m\u001b[0m\u001b[0m\n\u001b[0;32m   5861\u001b[0m         \u001b[1;32mif\u001b[0m \u001b[0minplace\u001b[0m\u001b[1;33m:\u001b[0m\u001b[1;33m\u001b[0m\u001b[1;33m\u001b[0m\u001b[0m\n",
      "\u001b[1;31mKeyError\u001b[0m: \"None of ['date'] are in the columns\""
     ]
    }
   ],
   "source": [
    "# Plot the original data\n",
    "plt.figure(figsize=(10, 6))\n",
    "plt.plot(data.index, data['Qty'])  # Plot only the 'Qty' column\n",
    "plt.title('Monthly Data')\n",
    "plt.xlabel('Date')\n",
    "plt.ylabel('Value')\n",
    "plt.show()\n",
    "\n",
    "# Ensure 'Qty' column is of numerical type\n",
    "data['Qty'] = pd.to_numeric(data['Qty'])\n",
    "\n",
    "# Convert DataFrame to numpy array\n",
    "data_array = np.asarray(data)\n",
    "\n",
    "# Fit ARIMA model\n",
    "model = ARIMA(data['Qty'], order=(5,1,0)) # Example order, you may need to tune this\n",
    "model_fit = model.fit()\n",
    "\n",
    "# Forecast for the next 30 days\n",
    "forecast = model_fit.forecast(steps=30)\n",
    "\n",
    "# Plot the forecast\n",
    "plt.figure(figsize=(10, 6))\n",
    "plt.plot(data.index, data['Qty'], label='Original Data')\n",
    "plt.plot(pd.date_range(start=data.index[-1], periods=30, freq='D'), forecast, label='Forecast')\n",
    "plt.title('Forecast for Next 30 Days')\n",
    "plt.xlabel('Date')\n",
    "plt.ylabel('Value')\n",
    "plt.legend()\n",
    "plt.show()\n",
    "\n"
   ]
  },
  {
   "cell_type": "code",
   "execution_count": null,
   "id": "4edf5cd1",
   "metadata": {},
   "outputs": [],
   "source": []
  },
  {
   "cell_type": "code",
   "execution_count": 4,
   "id": "a66793fb",
   "metadata": {},
   "outputs": [
    {
     "name": "stdout",
     "output_type": "stream",
     "text": [
      "<class 'pandas.core.frame.DataFrame'>\n",
      "RangeIndex: 12 entries, 0 to 11\n",
      "Data columns (total 3 columns):\n",
      " #   Column      Non-Null Count  Dtype \n",
      "---  ------      --------------  ----- \n",
      " 0   date        12 non-null     object\n",
      " 1   Qty         12 non-null     int64 \n",
      " 2   item_name   12 non-null     object\n",
      "dtypes: int64(1), object(2)\n",
      "memory usage: 416.0+ bytes\n"
     ]
    }
   ],
   "source": [
    "df.info()"
   ]
  },
  {
   "cell_type": "code",
   "execution_count": null,
   "id": "081eef81",
   "metadata": {},
   "outputs": [],
   "source": []
  }
 ],
 "metadata": {
  "kernelspec": {
   "display_name": "Python 3 (ipykernel)",
   "language": "python",
   "name": "python3"
  },
  "language_info": {
   "codemirror_mode": {
    "name": "ipython",
    "version": 3
   },
   "file_extension": ".py",
   "mimetype": "text/x-python",
   "name": "python",
   "nbconvert_exporter": "python",
   "pygments_lexer": "ipython3",
   "version": "3.9.13"
  }
 },
 "nbformat": 4,
 "nbformat_minor": 5
}
