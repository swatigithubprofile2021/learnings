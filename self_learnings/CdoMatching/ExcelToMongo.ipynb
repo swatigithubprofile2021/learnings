{
 "cells": [
  {
   "cell_type": "code",
   "execution_count": 13,
   "id": "1992938c",
   "metadata": {},
   "outputs": [
    {
     "name": "stdout",
     "output_type": "stream",
     "text": [
      "10046 documents inserted into MongoDB.\n"
     ]
    }
   ],
   "source": [
    "import pandas as pd\n",
    "from pymongo import MongoClient\n",
    "\n",
    "# Function to push  excel data to MongoDB \n",
    "def push_excel_to_mongodb(excel_file, collection_name, mongodb_uri):\n",
    "    # Read Excel data into a pandas DataFrame\n",
    "    df = pd.read_excel(excel_file)\n",
    "    df['fatherName'] =  df['fatherName'].str.strip()\n",
    "    df.fillna(\"\",axis=1,inplace=True)\n",
    "    df = df.astype(str)\n",
    "    data = df.to_dict(orient='records')\n",
    "    \n",
    "    \n",
    "    # Connect to MongoDB\n",
    "    client = MongoClient(mongodb_uri)\n",
    "    db = client['haritkranti06032021']\n",
    "\n",
    "    # create a collection\n",
    "    collection = db[collection_name]\n",
    "\n",
    "    # Insert the data into the collection\n",
    "    result = collection.insert_many(data)\n",
    "\n",
    "    # Print the number of inserted documents\n",
    "    print(f\"{len(result.inserted_ids)} documents inserted into MongoDB.\")\n",
    "\n",
    "if __name__ == \"__main__\":\n",
    "    # Provide the necessary information\n",
    "    excel_file_path = \"land_seeding_2copy.xlsx\"\n",
    "    collection_name = \"CDO_new\"\n",
    "    mongodb_uri = \"mongodb://172.16.70.13:27017/\"  \n",
    "\n",
    "    push_excel_to_mongodb(excel_file_path, collection_name, mongodb_uri)\n"
   ]
  },
  {
   "cell_type": "code",
   "execution_count": null,
   "id": "94588c6d",
   "metadata": {},
   "outputs": [],
   "source": []
  }
 ],
 "metadata": {
  "kernelspec": {
   "display_name": "Python 3 (ipykernel)",
   "language": "python",
   "name": "python3"
  },
  "language_info": {
   "codemirror_mode": {
    "name": "ipython",
    "version": 3
   },
   "file_extension": ".py",
   "mimetype": "text/x-python",
   "name": "python",
   "nbconvert_exporter": "python",
   "pygments_lexer": "ipython3",
   "version": "3.9.13"
  }
 },
 "nbformat": 4,
 "nbformat_minor": 5
}
